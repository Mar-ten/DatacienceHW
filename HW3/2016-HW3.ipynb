{
 "cells": [
  {
   "cell_type": "markdown",
   "metadata": {},
   "source": [
    "# Introduction to Data Science - Homework 3\n",
    "*CS 5963 / MATH 3900, University of Utah, http://datasciencecourse.net/*\n",
    "\n",
    "Due: Friday, September 23, 11:59pm.\n",
    "\n",
    "In this homework you will complete an A/B test for a mock company and compute a moving average for air quality data.\n"
   ]
  },
  {
   "cell_type": "markdown",
   "metadata": {},
   "source": [
    "## Your Data\n",
    "Fill out the following information: \n",
    "\n",
    "*First Name:*   \n",
    "*Last Name:*   \n",
    "*E-mail:*   \n",
    "*UID:*  \n"
   ]
  },
  {
   "cell_type": "markdown",
   "metadata": {},
   "source": [
    "## Part 1: A/B testing\n",
    "\n",
    "First read the WIRED article on A/B testing [here](http://www.wired.com/2012/04/ff_abtesting/).\n",
    "\n",
    "Suppose your company is developing a new logo. The art department develops two logos: ‘Logo A’ and ‘Logo B’ shown below. \n",
    "![](http://www.wired.com/wiredenterprise/wp-content/gallery/20-05/ff_abtesting_f.jpg)\n",
    "Your job is to figure out which logo is better. \n",
    "\n",
    "\n",
    "You decide to do the following experiment. You use Google ads to buy 2000 advertisements. In $N_A=1000$ of the ads (randomly chosen), you use Logo A and in the other $N_B=1000$, you use Logo B. Then you see which logo attracts more clicks.\n",
    "\n",
    "It turns out that $n_A=500$ Logo A viewers click on the ad while $n_B=550$ Logo B viewers click on the ad. Obviously Logo B did better in this test, but is the difference *significant* enough to say that Logo B is better? Perhaps, Logo B just got lucky in this test? The goal of this exercise will be to use hypothesis testing to determine the answer.\n",
    "\n",
    "\n",
    "### Task 1.1 Plot Distributions\n",
    "As a first step to understanding the data, consider the distributions for the two ads independently. It is known that $n_A/N_A$ is approximately a normal random variable with mean $p_A=n_A/N_A$ and variance $\\sigma_A^2 = p_A(1-p_A)/N_A$ and the equivalent statement holds for $n_B/N_B$. Plot the probability density functions for these two variables, considered independently. Interpet the results.   \n",
    "\n",
    "\n"
   ]
  },
  {
   "cell_type": "code",
   "execution_count": null,
   "metadata": {
    "collapsed": true
   },
   "outputs": [],
   "source": [
    "# imports and setup \n",
    "import scipy as sc\n",
    "from scipy.stats import norm\n",
    "\n",
    "import matplotlib.pyplot as plt\n",
    "%matplotlib inline  \n",
    "plt.rcParams['figure.figsize'] = (10, 6) "
   ]
  },
  {
   "cell_type": "code",
   "execution_count": null,
   "metadata": {
    "collapsed": false
   },
   "outputs": [],
   "source": [
    "# Your calculations and plotting code goes here \n"
   ]
  },
  {
   "cell_type": "markdown",
   "metadata": {},
   "source": [
    "**Your interpretation:** TODO"
   ]
  },
  {
   "cell_type": "markdown",
   "metadata": {},
   "source": [
    "**Reference Interpretation:** The distributions describing the estimate for the two click-rates overlap somewhat, so it looks feasible but unlikely that the two click rates could come from the same distribution. "
   ]
  },
  {
   "cell_type": "markdown",
   "metadata": {},
   "source": [
    "### Task 1.2. Hypothesis Testing\n",
    "\n",
    "Conduct a hypothesis test to determine whether the proportion of clicks for the two logos was significantly different. Repeating the analysis from Lecture 4. \n",
    "1. Report the standardized $z$ value\n",
    "+ Report the $p$-value for your hypothesis test\n",
    "+ For what confidence levels would we reject the null hypothesis? \n",
    "+ Interpret your results, stating the result of the hypothesis test and exactly how to interpret the $p$-value in this example. "
   ]
  },
  {
   "cell_type": "code",
   "execution_count": null,
   "metadata": {
    "collapsed": false
   },
   "outputs": [],
   "source": [
    "# Your testing / plotting code goes here"
   ]
  },
  {
   "cell_type": "markdown",
   "metadata": {},
   "source": [
    "**Your Interpretation:** TODO"
   ]
  },
  {
   "cell_type": "markdown",
   "metadata": {},
   "source": [
    "## Part 2: Moving average for SLC Air Quality Index \n",
    "\n",
    "In this problem, we will compute a moving average for the PM2.5 Air Quality Index at Hawthorn Elementary School in Salt Lake City.\n",
    "\n",
    "Read more about air quality in SLC here: http://slcair.communication.utah.edu/\n",
    "\n",
    "\n",
    "## Task 2.1. Download data\n",
    "\n",
    "Go to [this website](https://www.epa.gov/air-data) and download the following daily data: \n",
    "1. Pollutant = PM2.5\n",
    "2. Year = 2015\n",
    "3. City = Salt Lake City, UT\n",
    "4. Monitor Site = 490353006 (Hawthorn Elementary School)\n",
    "\n",
    "## Task 2.2. Import and clean the data \n",
    "Use the pandas.read_csv() function to import the data\n",
    "\n",
    "A word of warning: this data isn't very clean.\n",
    "\n",
    "1. The dates are not sorted \n",
    "2. some dates have multiple values corresponding to two different collection sites (POC = 1,4) \n",
    "3. some dates have missing values. \n",
    "\n",
    "In the following parts, you'll have to choose how to best handle and clean the data.  "
   ]
  },
  {
   "cell_type": "code",
   "execution_count": null,
   "metadata": {
    "collapsed": false
   },
   "outputs": [],
   "source": [
    "import pandas as pd\n",
    "import matplotlib.pyplot as plt \n",
    "%pylab inline\n",
    "%matplotlib inline  \n",
    "plt.rcParams['figure.figsize'] = (10, 6)\n",
    "\n",
    "# load the data"
   ]
  },
  {
   "cell_type": "markdown",
   "metadata": {},
   "source": [
    "Next, clean the data - you won't need all of the columns, so just keep the ones we need. "
   ]
  },
  {
   "cell_type": "code",
   "execution_count": null,
   "metadata": {
    "collapsed": false
   },
   "outputs": [],
   "source": [
    "# keep only the data you need"
   ]
  },
  {
   "cell_type": "markdown",
   "metadata": {},
   "source": [
    "## Task 2.3. Plot and describe the relevant data\n",
    "\n",
    "Plot and describe the PM2.5 Air Quality Index data. "
   ]
  },
  {
   "cell_type": "code",
   "execution_count": null,
   "metadata": {
    "collapsed": false
   },
   "outputs": [],
   "source": [
    "# plot the data"
   ]
  },
  {
   "cell_type": "markdown",
   "metadata": {},
   "source": [
    "## Task 2.4. Plot a moving average\n",
    "\n",
    "Plot a moving average of the PM2.5 Air Quality Index data. Experiment with different windows and see which one is reasonable for a seasonal interpretation. Write a warning to Asthma sufferers in Salt Lake City on which seasons the Air Quality Index is likely to be bad.\n",
    "\n",
    "Recall that some dates have missing values, so to average over intervals, you'll have to 'fill in' the missing values in a sensible way. \n",
    "\n",
    "Hints: \n",
    " * You'll find two values for each day, decide on how to handle that and implement it.\n",
    " * You'll have to handle missing data - remember the [`.fillna()`](http://pandas.pydata.org/pandas-docs/stable/generated/pandas.DataFrame.fillna.html) function, which will be helpful here.  \n",
    " * Use [`rolling()`](http://pandas.pydata.org/pandas-docs/version/0.17.0/generated/pandas.rolling_mean.html) function as in Lab 6 to calcualte the rolling mean.\n"
   ]
  },
  {
   "cell_type": "code",
   "execution_count": null,
   "metadata": {
    "collapsed": true
   },
   "outputs": [],
   "source": [
    "# your wrangling, calculation and plotting code "
   ]
  },
  {
   "cell_type": "markdown",
   "metadata": {},
   "source": [
    "**Your Warning:**"
   ]
  }
 ],
 "metadata": {
  "anaconda-cloud": {},
  "kernelspec": {
   "display_name": "Python [conda root]",
   "language": "python",
   "name": "conda-root-py"
  },
  "language_info": {
   "codemirror_mode": {
    "name": "ipython",
    "version": 3
   },
   "file_extension": ".py",
   "mimetype": "text/x-python",
   "name": "python",
   "nbconvert_exporter": "python",
   "pygments_lexer": "ipython3",
   "version": "3.5.2"
  }
 },
 "nbformat": 4,
 "nbformat_minor": 0
}
